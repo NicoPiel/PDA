{
 "cells": [
  {
   "cell_type": "code",
   "execution_count": 4,
   "metadata": {},
   "outputs": [
    {
     "name": "stdout",
     "output_type": "stream",
     "text": [
      "f1-score = 0.6050873327056444\n"
     ]
    }
   ],
   "source": [
    "import pandas as pd\n",
    "import numpy as np\n",
    "\n",
    "from sklearn.impute import KNNImputer\n",
    "from sklearn.model_selection import train_test_split\n",
    "from sklearn.preprocessing import StandardScaler\n",
    "from sklearn.ensemble import RandomForestClassifier\n",
    "from sklearn.metrics import classification_report, confusion_matrix, accuracy_score\n",
    "from sklearn.metrics import f1_score\n",
    "\n",
    "#Daten einlesen\n",
    "dataset = pd.read_csv(\"data_for_random_forest.csv\")\n",
    "\n",
    "#Missing Values\n",
    "#Wenn man Daten mit Durchschnittsdaten füllt und 200 Trees, f1-score = 0,65\n",
    "#dataset = dataset.fillna(dataset.mean())\n",
    "\n",
    "#Daten mit Dummy Value -999 füllen und 20 Trees. f1-score = 0,67\n",
    "dataset = dataset.fillna(-999)\n",
    "\n",
    "#In Attribute und Labels einteilen\n",
    "X = dataset.iloc[:, 1:5].values\n",
    "y = dataset.iloc[:, 5]\n",
    "\n",
    "#Imputer k-nearest Neighbors. f1-score = 0,66\n",
    "#imputer = KNNImputer(n_neighbors=15, weights='uniform', metric='nan_euclidean')\n",
    "#imputer.fit(X)\n",
    "#X = imputer.transform(X)\n",
    "\n",
    "f1 = 0.0\n",
    "n = 100\n",
    "for i in range(0, n):\n",
    "    #Split Test und Trainingsdaten\n",
    "    X_train, X_test, y_train, y_test = train_test_split(X, y, test_size = 0.25, random_state = None)\n",
    "\n",
    "    #Featuer Scaling\n",
    "    sc = StandardScaler()\n",
    "    X_train = sc.fit_transform(X_train)\n",
    "    X_test = sc.transform(X_test)\n",
    "\n",
    "    #Train\n",
    "    classifier = RandomForestClassifier(n_estimators = 20, random_state = None)\n",
    "    classifier.fit(X_train, y_train)\n",
    "    y_pred = classifier.predict(X_test)\n",
    "    f1 += f1_score(y_test, y_pred, average='macro')\n",
    "f1 = f1/n\n",
    "print(\"f1-score = \"+str(f1))\n",
    "\n",
    "#Evaluation\n",
    "#The count of true negatives is C0,0 , false negatives is C1,0 , true positives is C1,1 and false positives is C0,1\n",
    "#print(confusion_matrix(y_test,y_pred))\n",
    "#print(classification_report(y_test, y_pred))\n",
    "#print(accuracy_score(y_test, y_pred))"
   ]
  },
  {
   "cell_type": "code",
   "execution_count": null,
   "metadata": {},
   "outputs": [],
   "source": []
  },
  {
   "cell_type": "code",
   "execution_count": null,
   "metadata": {},
   "outputs": [],
   "source": []
  }
 ],
 "metadata": {
  "kernelspec": {
   "display_name": "Python 3",
   "language": "python",
   "name": "python3"
  },
  "language_info": {
   "codemirror_mode": {
    "name": "ipython",
    "version": 3
   },
   "file_extension": ".py",
   "mimetype": "text/x-python",
   "name": "python",
   "nbconvert_exporter": "python",
   "pygments_lexer": "ipython3",
   "version": "3.7.6"
  }
 },
 "nbformat": 4,
 "nbformat_minor": 4
}
