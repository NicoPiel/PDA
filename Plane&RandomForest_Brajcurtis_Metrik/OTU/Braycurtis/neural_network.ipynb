{
 "cells": [
  {
   "cell_type": "code",
   "execution_count": 4,
   "metadata": {},
   "outputs": [
    {
     "name": "stdout",
     "output_type": "stream",
     "text": [
      "[[275   1]\n",
      " [ 30   2]]\n",
      "              precision    recall  f1-score   support\n",
      "\n",
      "           0       0.90      1.00      0.95       276\n",
      "           1       0.67      0.06      0.11        32\n",
      "\n",
      "    accuracy                           0.90       308\n",
      "   macro avg       0.78      0.53      0.53       308\n",
      "weighted avg       0.88      0.90      0.86       308\n",
      "\n",
      "[[279   3]\n",
      " [ 25   1]]\n",
      "              precision    recall  f1-score   support\n",
      "\n",
      "           0       0.92      0.99      0.95       282\n",
      "           1       0.25      0.04      0.07        26\n",
      "\n",
      "    accuracy                           0.91       308\n",
      "   macro avg       0.58      0.51      0.51       308\n",
      "weighted avg       0.86      0.91      0.88       308\n",
      "\n"
     ]
    }
   ],
   "source": [
    "import pandas as pd\n",
    "import numpy as np \n",
    "\n",
    "import matplotlib.pyplot as plt\n",
    "from sklearn.neural_network import MLPClassifier\n",
    "from sklearn.preprocessing import StandardScaler\n",
    "from sklearn.model_selection import train_test_split\n",
    "from sklearn.metrics import classification_report, confusion_matrix, accuracy_score\n",
    "\n",
    "#Daten einlesen\n",
    "dataset = pd.read_csv(\"data_for_random_forest.csv\")\n",
    "\n",
    "#Daten mit Dummy Value -999 füllen und 20 Trees. f1-score = 0,67\n",
    "dataset = dataset.fillna(-999)\n",
    "\n",
    "#In Attribute und Labels einteilen\n",
    "X = dataset.iloc[:, 1:5].values\n",
    "y = dataset.iloc[:, 5]\n",
    "\n",
    "#Split Test und Trainingsdaten\n",
    "X_train, X_test, y_train, y_test = train_test_split(X, y, test_size = 0.5, random_state = 0)\n",
    "\n",
    "#Featuer Scaling\n",
    "sc = StandardScaler()\n",
    "X_train = sc.fit_transform(X_train)\n",
    "X_test = sc.transform(X_test)\n",
    "\n",
    "#Train\n",
    "mlp = MLPClassifier(hidden_layer_sizes=(8,8,8), activation='relu', solver='adam', max_iter=500)\n",
    "mlp.fit(X_train,y_train)\n",
    "\n",
    "predict_train = mlp.predict(X_train)\n",
    "predict_test = mlp.predict(X_test)\n",
    "\n",
    "#Evaluation Train Data\n",
    "print(confusion_matrix(y_train,predict_train))\n",
    "print(classification_report(y_train,predict_train))\n",
    "\n",
    "#Evaluating Test Data\n",
    "print(confusion_matrix(y_test,predict_test))\n",
    "print(classification_report(y_test,predict_test))\n"
   ]
  },
  {
   "cell_type": "code",
   "execution_count": null,
   "metadata": {},
   "outputs": [],
   "source": []
  },
  {
   "cell_type": "code",
   "execution_count": null,
   "metadata": {},
   "outputs": [],
   "source": []
  }
 ],
 "metadata": {
  "kernelspec": {
   "display_name": "Python 3",
   "language": "python",
   "name": "python3"
  },
  "language_info": {
   "codemirror_mode": {
    "name": "ipython",
    "version": 3
   },
   "file_extension": ".py",
   "mimetype": "text/x-python",
   "name": "python",
   "nbconvert_exporter": "python",
   "pygments_lexer": "ipython3",
   "version": "3.7.6"
  }
 },
 "nbformat": 4,
 "nbformat_minor": 4
}
