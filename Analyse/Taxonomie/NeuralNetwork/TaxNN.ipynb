{
 "cells": [
  {
   "cell_type": "code",
   "execution_count": 143,
   "outputs": [
    {
     "name": "stdout",
     "output_type": "stream",
     "text": [
      "GPUs für die Berechnung: 0\n"
     ]
    }
   ],
   "source": [
    "# Setup\n",
    "\n",
    "import numpy as np\n",
    "\n",
    "# Ein Zufalls-Seed für Reproduzierbarkeit\n",
    "np.random.seed(42)\n",
    "\n",
    "from datetime import datetime\n",
    "import pandas as pd\n",
    "import seaborn as sns\n",
    "from scipy import stats\n",
    "import sklearn as sklearn\n",
    "from sklearn.model_selection import train_test_split\n",
    "from sklearn.metrics import confusion_matrix, f1_score, precision_score, recall_score, classification_report\n",
    "from sklearn.impute import KNNImputer\n",
    "import tensorflow as tf\n",
    "from tensorflow import keras\n",
    "from tensorflow.keras import layers, callbacks, utils\n",
    "\n",
    "sns.set_theme()\n",
    "\n",
    "print(f\"GPUs für die Berechnung: {len(tf.config.experimental.list_physical_devices('GPU'))}\")"
   ],
   "metadata": {
    "collapsed": false,
    "pycharm": {
     "name": "#%%\n"
    }
   }
  },
  {
   "cell_type": "code",
   "execution_count": 144,
   "metadata": {},
   "outputs": [],
   "source": [
    "#Metadaten einlesen\n",
    "df = pd.read_csv(\"NIHMS841832-supplement-1.csv\")\n",
    "\n",
    "#Ergebnisse des Feature Tables einlesen\n",
    "feature = pd.read_csv('feature_table.txt', sep='\\t').T\n",
    "feature = feature[1:][:-1]"
   ]
  },
  {
   "cell_type": "code",
   "execution_count": 145,
   "outputs": [],
   "source": [
    "#Gesunde Kontrollgruppe\n",
    "HC = df[df.ibd_subtype.eq(\"HC\")]\n",
    "\n",
    "y = []\n",
    "for row in feature.index:\n",
    "    if any(True for val in HC['sample_name'] if val == row):\n",
    "        y.append(1)\n",
    "    else:\n",
    "        y.append(0)\n",
    "\n",
    "X = feature.iloc[:, :].values"
   ],
   "metadata": {
    "collapsed": false,
    "pycharm": {
     "name": "#%%\n"
    }
   }
  },
  {
   "cell_type": "code",
   "execution_count": 146,
   "outputs": [
    {
     "data": {
      "text/plain": "                    0       1    2    3    4    5       6    7    8    9    \\\n1629.SubjectIBD335  0.0   345.0  0.0  0.0  0.0  0.0   412.0  0.0  0.0  0.0   \n1629.SubjectIBD643  0.0     0.0  0.0  0.0  0.0  0.0     0.0  0.0  0.0  0.0   \n1629.SubjectIBD539  0.0  2869.0  0.0  0.0  0.0  0.0  1665.0  0.0  0.0  0.0   \n1629.SubjectIBD078  0.0     5.0  0.0  0.0  0.0  0.0    17.0  0.0  0.0  0.0   \n1629.SubjectIBD671  0.0     0.0  0.0  0.0  0.0  0.0     0.0  0.0  0.0  0.0   \n\n                    ...  323    324  325  326  327  328   329  330  331  \\\n1629.SubjectIBD335  ...  0.0    0.0  0.0  0.0  0.0  0.0   7.0  0.0  0.0   \n1629.SubjectIBD643  ...  0.0    0.0  0.0  0.0  0.0  0.0   0.0  0.0  0.0   \n1629.SubjectIBD539  ...  0.0  746.0  0.0  0.0  0.0  3.0  21.0  0.0  0.0   \n1629.SubjectIBD078  ...  0.0    0.0  0.0  0.0  0.0  0.0   0.0  0.0  0.0   \n1629.SubjectIBD671  ...  0.0    0.0  0.0  0.0  0.0  0.0   0.0  0.0  0.0   \n\n                        332  \n1629.SubjectIBD335    353.0  \n1629.SubjectIBD643      4.0  \n1629.SubjectIBD539  88919.0  \n1629.SubjectIBD078      3.0  \n1629.SubjectIBD671      2.0  \n\n[5 rows x 333 columns]",
      "text/html": "<div>\n<style scoped>\n    .dataframe tbody tr th:only-of-type {\n        vertical-align: middle;\n    }\n\n    .dataframe tbody tr th {\n        vertical-align: top;\n    }\n\n    .dataframe thead th {\n        text-align: right;\n    }\n</style>\n<table border=\"1\" class=\"dataframe\">\n  <thead>\n    <tr style=\"text-align: right;\">\n      <th></th>\n      <th>0</th>\n      <th>1</th>\n      <th>2</th>\n      <th>3</th>\n      <th>4</th>\n      <th>5</th>\n      <th>6</th>\n      <th>7</th>\n      <th>8</th>\n      <th>9</th>\n      <th>...</th>\n      <th>323</th>\n      <th>324</th>\n      <th>325</th>\n      <th>326</th>\n      <th>327</th>\n      <th>328</th>\n      <th>329</th>\n      <th>330</th>\n      <th>331</th>\n      <th>332</th>\n    </tr>\n  </thead>\n  <tbody>\n    <tr>\n      <th>1629.SubjectIBD335</th>\n      <td>0.0</td>\n      <td>345.0</td>\n      <td>0.0</td>\n      <td>0.0</td>\n      <td>0.0</td>\n      <td>0.0</td>\n      <td>412.0</td>\n      <td>0.0</td>\n      <td>0.0</td>\n      <td>0.0</td>\n      <td>...</td>\n      <td>0.0</td>\n      <td>0.0</td>\n      <td>0.0</td>\n      <td>0.0</td>\n      <td>0.0</td>\n      <td>0.0</td>\n      <td>7.0</td>\n      <td>0.0</td>\n      <td>0.0</td>\n      <td>353.0</td>\n    </tr>\n    <tr>\n      <th>1629.SubjectIBD643</th>\n      <td>0.0</td>\n      <td>0.0</td>\n      <td>0.0</td>\n      <td>0.0</td>\n      <td>0.0</td>\n      <td>0.0</td>\n      <td>0.0</td>\n      <td>0.0</td>\n      <td>0.0</td>\n      <td>0.0</td>\n      <td>...</td>\n      <td>0.0</td>\n      <td>0.0</td>\n      <td>0.0</td>\n      <td>0.0</td>\n      <td>0.0</td>\n      <td>0.0</td>\n      <td>0.0</td>\n      <td>0.0</td>\n      <td>0.0</td>\n      <td>4.0</td>\n    </tr>\n    <tr>\n      <th>1629.SubjectIBD539</th>\n      <td>0.0</td>\n      <td>2869.0</td>\n      <td>0.0</td>\n      <td>0.0</td>\n      <td>0.0</td>\n      <td>0.0</td>\n      <td>1665.0</td>\n      <td>0.0</td>\n      <td>0.0</td>\n      <td>0.0</td>\n      <td>...</td>\n      <td>0.0</td>\n      <td>746.0</td>\n      <td>0.0</td>\n      <td>0.0</td>\n      <td>0.0</td>\n      <td>3.0</td>\n      <td>21.0</td>\n      <td>0.0</td>\n      <td>0.0</td>\n      <td>88919.0</td>\n    </tr>\n    <tr>\n      <th>1629.SubjectIBD078</th>\n      <td>0.0</td>\n      <td>5.0</td>\n      <td>0.0</td>\n      <td>0.0</td>\n      <td>0.0</td>\n      <td>0.0</td>\n      <td>17.0</td>\n      <td>0.0</td>\n      <td>0.0</td>\n      <td>0.0</td>\n      <td>...</td>\n      <td>0.0</td>\n      <td>0.0</td>\n      <td>0.0</td>\n      <td>0.0</td>\n      <td>0.0</td>\n      <td>0.0</td>\n      <td>0.0</td>\n      <td>0.0</td>\n      <td>0.0</td>\n      <td>3.0</td>\n    </tr>\n    <tr>\n      <th>1629.SubjectIBD671</th>\n      <td>0.0</td>\n      <td>0.0</td>\n      <td>0.0</td>\n      <td>0.0</td>\n      <td>0.0</td>\n      <td>0.0</td>\n      <td>0.0</td>\n      <td>0.0</td>\n      <td>0.0</td>\n      <td>0.0</td>\n      <td>...</td>\n      <td>0.0</td>\n      <td>0.0</td>\n      <td>0.0</td>\n      <td>0.0</td>\n      <td>0.0</td>\n      <td>0.0</td>\n      <td>0.0</td>\n      <td>0.0</td>\n      <td>0.0</td>\n      <td>2.0</td>\n    </tr>\n  </tbody>\n</table>\n<p>5 rows × 333 columns</p>\n</div>"
     },
     "execution_count": 146,
     "metadata": {},
     "output_type": "execute_result"
    }
   ],
   "source": [
    "feature.head()"
   ],
   "metadata": {
    "collapsed": false,
    "pycharm": {
     "name": "#%%\n"
    }
   }
  },
  {
   "cell_type": "code",
   "execution_count": 147,
   "outputs": [
    {
     "name": "stdout",
     "output_type": "stream",
     "text": [
      "[[116   7]\n",
      " [ 12   1]]\n",
      "              precision    recall  f1-score   support\n",
      "\n",
      "           0       0.91      0.94      0.92       123\n",
      "           1       0.12      0.08      0.10        13\n",
      "\n",
      "    accuracy                           0.86       136\n",
      "   macro avg       0.52      0.51      0.51       136\n",
      "weighted avg       0.83      0.86      0.85       136\n",
      "\n"
     ]
    },
    {
     "data": {
      "text/plain": "<AxesSubplot:>"
     },
     "execution_count": 147,
     "metadata": {},
     "output_type": "execute_result"
    },
    {
     "data": {
      "text/plain": "<Figure size 432x288 with 1 Axes>",
      "image/png": "[encoded data removed]"
     },
     "metadata": {},
     "output_type": "display_data"
    }
   ],
   "source": [
    "# Split\n",
    "X_train, X_test, y_train, y_test = train_test_split(X, y, test_size = 0.2, random_state = 0)\n",
    "\n",
    "# Das Modell soll aufhören zu rechnen, falls es keine nennenswerten Verbesserungen mehr gibt\n",
    "early_stopping = callbacks.EarlyStopping(\n",
    "    min_delta=0.001,\n",
    "    patience=64,\n",
    "    restore_best_weights=True\n",
    ")\n",
    "\n",
    "# Das NN besteht aus einer Mischung von Dense-, Normalization- und Dropout-Layern.\n",
    "# Dropout führt allem Anschein nach zu schlechterem F1\n",
    "# Weniger LUs führen zu besseren Ergebnissen\n",
    "network = keras.Sequential([\n",
    "    layers.Dense(64, activation='relu', input_shape=[X_train.shape[1]]),\n",
    "    #layers.Dropout(rate=0.5),\n",
    "    layers.Dense(64, activation='relu'),\n",
    "    #layers.Dropout(rate=0.5),\n",
    "    layers.Dense(64, activation='relu'),\n",
    "    layers.Dense(1, activation='sigmoid'),\n",
    "])\n",
    "\n",
    "# NN kompilieren\n",
    "network.compile(\n",
    "    optimizer='adadelta',\n",
    "    loss='binary_crossentropy',\n",
    "    metrics=[keras.metrics.Accuracy()]\n",
    ")\n",
    "\n",
    "# NN trainieren\n",
    "history = network.fit(\n",
    "    X_train, y_train,\n",
    "    validation_data=(X_test, y_test),\n",
    "    batch_size=64,\n",
    "    epochs=512,\n",
    "    callbacks=[early_stopping],\n",
    "    verbose=0\n",
    ")\n",
    "\n",
    "# Scores berechnen\n",
    "history_df = pd.DataFrame(history.history)\n",
    "\n",
    "y_pred = np.floor(network.predict(X_test))\n",
    "report = sklearn.metrics.classification_report(y_test, y_pred)\n",
    "confusion_matrix = sklearn.metrics.confusion_matrix(y_test, y_pred)\n",
    "print(confusion_matrix)\n",
    "print(report)\n",
    "\n",
    "history_df.loc[5:, ['loss', 'val_loss']].plot()"
   ],
   "metadata": {
    "collapsed": false,
    "pycharm": {
     "name": "#%%\n"
    }
   }
  }
 ],
 "metadata": {
  "kernelspec": {
   "display_name": "Python 3",
   "language": "python",
   "name": "python3"
  },
  "language_info": {
   "codemirror_mode": {
    "name": "ipython",
    "version": 3
   },
   "file_extension": ".py",
   "mimetype": "text/x-python",
   "name": "python",
   "nbconvert_exporter": "python",
   "pygments_lexer": "ipython3",
   "version": "3.6.10"
  }
 },
 "nbformat": 4,
 "nbformat_minor": 4
}