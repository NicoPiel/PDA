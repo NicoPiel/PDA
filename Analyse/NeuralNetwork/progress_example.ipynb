{
 "cells": [
  {
   "cell_type": "code",
   "execution_count": 1,
   "metadata": {},
   "outputs": [
    {
     "data": {
      "text/markdown": [
       "Done!"
      ],
      "text/plain": [
       "<IPython.core.display.Markdown object>"
      ]
     },
     "metadata": {},
     "output_type": "display_data"
    }
   ],
   "source": [
    "from IPython.display import display, Markdown, HTML, clear_output\n",
    "from time import sleep\n",
    "\n",
    "def progress(cur, tot):\n",
    "    clear_output(True)\n",
    "    display(\n",
    "       HTML(\n",
    "        '''\n",
    "            <div style=\"float:left; margin-right:5px;\">\n",
    "                <div style=\"font-weight:bold;\">Dataset:</div>\n",
    "            </div>\n",
    "            <div style=\"float:left; margin-right:5px; text-align:left;\">\n",
    "                <div>{:d} / {:d}</div>\n",
    "            </div>\n",
    "        '''.format(cur, tot)\n",
    "        ),\n",
    "        HTML('<progress value=\\\"{:d}\\\" max=\\\"{:d}\\\" style=\\\"width:100%; height:1.5em;\\\"></progress>'.format(cur, tot))\n",
    "    )\n",
    "\n",
    "for i in range(10):\n",
    "    progress(i, 10)\n",
    "    sleep(0.2)\n",
    "\n",
    "clear_output()\n",
    "display(Markdown('Done!'))"
   ]
  },
  {
   "cell_type": "code",
   "execution_count": null,
   "metadata": {},
   "outputs": [],
   "source": []
  }
 ],
 "metadata": {
  "kernelspec": {
   "display_name": "Python 3",
   "language": "python",
   "name": "python3"
  },
  "language_info": {
   "codemirror_mode": {
    "name": "ipython",
    "version": 3
   },
   "file_extension": ".py",
   "mimetype": "text/x-python",
   "name": "python",
   "nbconvert_exporter": "python",
   "pygments_lexer": "ipython3",
   "version": "3.7.9"
  }
 },
 "nbformat": 4,
 "nbformat_minor": 2
}
