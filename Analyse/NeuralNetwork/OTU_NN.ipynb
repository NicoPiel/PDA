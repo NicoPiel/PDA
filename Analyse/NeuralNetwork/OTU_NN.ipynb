{
 "cells": [
  {
   "cell_type": "code",
   "execution_count": 62,
   "metadata": {
    "collapsed": true
   },
   "outputs": [
    {
     "name": "stdout",
     "output_type": "stream",
     "text": [
      "GPUs für die Berechnung: 0\n"
     ]
    }
   ],
   "source": [
    "# Setup\n",
    "\n",
    "import numpy as np\n",
    "\n",
    "# Ein Zufalls-Seed für Reproduzierbarkeit\n",
    "np.random.seed(42)\n",
    "\n",
    "from datetime import datetime\n",
    "import pandas as pd\n",
    "import seaborn as sns\n",
    "from scipy import stats\n",
    "import sklearn as sklearn\n",
    "from sklearn.model_selection import train_test_split\n",
    "from sklearn.metrics import confusion_matrix, f1_score, precision_score, recall_score, classification_report\n",
    "from sklearn.impute import KNNImputer\n",
    "import tensorflow as tf\n",
    "from tensorflow import keras\n",
    "from tensorflow.keras import layers, callbacks, utils\n",
    "\n",
    "sns.set_theme()\n",
    "\n",
    "print(f\"GPUs für die Berechnung: {len(tf.config.experimental.list_physical_devices('GPU'))}\")"
   ]
  },
  {
   "cell_type": "code",
   "execution_count": 63,
   "outputs": [],
   "source": [
    "# OTU Metadaten einlesen\n",
    "df = pd.read_csv(\"NIHMS841832-supplement-1.csv\", sep=',')\n",
    "\n",
    "# Ergebnisse des Feature Tables einlesen\n",
    "feature = pd.read_csv('feature_table_otu.txt', sep='\\t').T\n",
    "feature = feature[1:][:-1]"
   ],
   "metadata": {
    "collapsed": false,
    "pycharm": {
     "name": "#%%\n"
    }
   }
  },
  {
   "cell_type": "code",
   "execution_count": 64,
   "outputs": [],
   "source": [
    "# Gesunde Kontrollgruppe\n",
    "HC = df[df.ibd_subtype.eq(\"HC\")]\n",
    "\n",
    "y = []\n",
    "for row in feature.index:\n",
    "    if any(True for val in HC['sample_name'] if val == row):\n",
    "        y.append(1)\n",
    "    else:\n",
    "        y.append(0)\n",
    "\n",
    "X = feature.iloc[:, :].values"
   ],
   "metadata": {
    "collapsed": false,
    "pycharm": {
     "name": "#%%\n"
    }
   }
  },
  {
   "cell_type": "code",
   "execution_count": 65,
   "outputs": [
    {
     "data": {
      "text/plain": "                       0        1        2       3       4        5     \\\n1629.SubjectIBD335  34292.0  20670.0  18413.0  9981.0  7071.0   6881.0   \n1629.SubjectIBD643  15243.0  64328.0      0.0     0.0     0.0      4.0   \n1629.SubjectIBD539  22182.0  21589.0      0.0  1365.0     0.0  11501.0   \n1629.SubjectIBD078      0.0    805.0      0.0     0.0     0.0      4.0   \n1629.SubjectIBD671      0.0  19734.0      0.0     0.0     0.0      0.0   \n\n                       6       7        8       9     ... 3101 3102 3103 3104  \\\n1629.SubjectIBD335   5411.0  5335.0   5289.0  4741.0  ...  0.0  0.0  0.0  0.0   \n1629.SubjectIBD643   4507.0  3216.0  15630.0   199.0  ...  0.0  0.0  0.0  0.0   \n1629.SubjectIBD539  33619.0  3638.0   5053.0     0.0  ...  0.0  0.0  0.0  0.0   \n1629.SubjectIBD078    330.0  2305.0      0.0     8.0  ...  0.0  0.0  0.0  0.0   \n1629.SubjectIBD671    215.0     0.0      0.0   699.0  ...  0.0  0.0  0.0  0.0   \n\n                   3105 3106 3107 3108 3109 3110  \n1629.SubjectIBD335  0.0  0.0  0.0  0.0  0.0  0.0  \n1629.SubjectIBD643  0.0  0.0  0.0  0.0  0.0  0.0  \n1629.SubjectIBD539  0.0  0.0  0.0  0.0  0.0  0.0  \n1629.SubjectIBD078  0.0  0.0  0.0  0.0  0.0  0.0  \n1629.SubjectIBD671  0.0  0.0  0.0  0.0  0.0  0.0  \n\n[5 rows x 3111 columns]",
      "text/html": "<div>\n<style scoped>\n    .dataframe tbody tr th:only-of-type {\n        vertical-align: middle;\n    }\n\n    .dataframe tbody tr th {\n        vertical-align: top;\n    }\n\n    .dataframe thead th {\n        text-align: right;\n    }\n</style>\n<table border=\"1\" class=\"dataframe\">\n  <thead>\n    <tr style=\"text-align: right;\">\n      <th></th>\n      <th>0</th>\n      <th>1</th>\n      <th>2</th>\n      <th>3</th>\n      <th>4</th>\n      <th>5</th>\n      <th>6</th>\n      <th>7</th>\n      <th>8</th>\n      <th>9</th>\n      <th>...</th>\n      <th>3101</th>\n      <th>3102</th>\n      <th>3103</th>\n      <th>3104</th>\n      <th>3105</th>\n      <th>3106</th>\n      <th>3107</th>\n      <th>3108</th>\n      <th>3109</th>\n      <th>3110</th>\n    </tr>\n  </thead>\n  <tbody>\n    <tr>\n      <th>1629.SubjectIBD335</th>\n      <td>34292.0</td>\n      <td>20670.0</td>\n      <td>18413.0</td>\n      <td>9981.0</td>\n      <td>7071.0</td>\n      <td>6881.0</td>\n      <td>5411.0</td>\n      <td>5335.0</td>\n      <td>5289.0</td>\n      <td>4741.0</td>\n      <td>...</td>\n      <td>0.0</td>\n      <td>0.0</td>\n      <td>0.0</td>\n      <td>0.0</td>\n      <td>0.0</td>\n      <td>0.0</td>\n      <td>0.0</td>\n      <td>0.0</td>\n      <td>0.0</td>\n      <td>0.0</td>\n    </tr>\n    <tr>\n      <th>1629.SubjectIBD643</th>\n      <td>15243.0</td>\n      <td>64328.0</td>\n      <td>0.0</td>\n      <td>0.0</td>\n      <td>0.0</td>\n      <td>4.0</td>\n      <td>4507.0</td>\n      <td>3216.0</td>\n      <td>15630.0</td>\n      <td>199.0</td>\n      <td>...</td>\n      <td>0.0</td>\n      <td>0.0</td>\n      <td>0.0</td>\n      <td>0.0</td>\n      <td>0.0</td>\n      <td>0.0</td>\n      <td>0.0</td>\n      <td>0.0</td>\n      <td>0.0</td>\n      <td>0.0</td>\n    </tr>\n    <tr>\n      <th>1629.SubjectIBD539</th>\n      <td>22182.0</td>\n      <td>21589.0</td>\n      <td>0.0</td>\n      <td>1365.0</td>\n      <td>0.0</td>\n      <td>11501.0</td>\n      <td>33619.0</td>\n      <td>3638.0</td>\n      <td>5053.0</td>\n      <td>0.0</td>\n      <td>...</td>\n      <td>0.0</td>\n      <td>0.0</td>\n      <td>0.0</td>\n      <td>0.0</td>\n      <td>0.0</td>\n      <td>0.0</td>\n      <td>0.0</td>\n      <td>0.0</td>\n      <td>0.0</td>\n      <td>0.0</td>\n    </tr>\n    <tr>\n      <th>1629.SubjectIBD078</th>\n      <td>0.0</td>\n      <td>805.0</td>\n      <td>0.0</td>\n      <td>0.0</td>\n      <td>0.0</td>\n      <td>4.0</td>\n      <td>330.0</td>\n      <td>2305.0</td>\n      <td>0.0</td>\n      <td>8.0</td>\n      <td>...</td>\n      <td>0.0</td>\n      <td>0.0</td>\n      <td>0.0</td>\n      <td>0.0</td>\n      <td>0.0</td>\n      <td>0.0</td>\n      <td>0.0</td>\n      <td>0.0</td>\n      <td>0.0</td>\n      <td>0.0</td>\n    </tr>\n    <tr>\n      <th>1629.SubjectIBD671</th>\n      <td>0.0</td>\n      <td>19734.0</td>\n      <td>0.0</td>\n      <td>0.0</td>\n      <td>0.0</td>\n      <td>0.0</td>\n      <td>215.0</td>\n      <td>0.0</td>\n      <td>0.0</td>\n      <td>699.0</td>\n      <td>...</td>\n      <td>0.0</td>\n      <td>0.0</td>\n      <td>0.0</td>\n      <td>0.0</td>\n      <td>0.0</td>\n      <td>0.0</td>\n      <td>0.0</td>\n      <td>0.0</td>\n      <td>0.0</td>\n      <td>0.0</td>\n    </tr>\n  </tbody>\n</table>\n<p>5 rows × 3111 columns</p>\n</div>"
     },
     "execution_count": 65,
     "metadata": {},
     "output_type": "execute_result"
    }
   ],
   "source": [
    "feature.head()"
   ],
   "metadata": {
    "collapsed": false,
    "pycharm": {
     "name": "#%%\n"
    }
   }
  },
  {
   "cell_type": "code",
   "execution_count": 66,
   "outputs": [],
   "source": [
    "def nn(random_state):\n",
    "    # Split\n",
    "    X_train, X_test, y_train, y_test = train_test_split(X, y, test_size = 0.2, random_state = random_state)\n",
    "\n",
    "    # Das Modell soll aufhören zu rechnen, falls es keine nennenswerten Verbesserungen mehr gibt\n",
    "    early_stopping = callbacks.EarlyStopping(\n",
    "        min_delta=0.001,\n",
    "        patience=64,\n",
    "        restore_best_weights=True\n",
    "    )\n",
    "\n",
    "    # Das NN besteht aus einer Mischung von Dense-, Normalization- und Dropout-Layern.\n",
    "    # Dropout führt allem Anschein nach zu schlechterem F1\n",
    "    # Weniger LUs führen zu besseren Ergebnissen\n",
    "    network = keras.Sequential([\n",
    "        layers.Dense(64, activation='relu', input_shape=[X_train.shape[1]]),\n",
    "        #layers.Dropout(rate=0.5),\n",
    "        layers.Dense(64, activation='relu'),\n",
    "        #layers.Dropout(rate=0.5),\n",
    "        layers.Dense(64, activation='relu'),\n",
    "        layers.Dense(1, activation='sigmoid'),\n",
    "    ])\n",
    "\n",
    "    # NN kompilieren\n",
    "    network.compile(\n",
    "        optimizer='adam',\n",
    "        loss='binary_crossentropy',\n",
    "        metrics=[keras.metrics.Accuracy()]\n",
    "    )\n",
    "\n",
    "    # NN trainieren\n",
    "    history = network.fit(\n",
    "        X_train, y_train,\n",
    "        validation_data=(X_test, y_test),\n",
    "        batch_size=64,\n",
    "        epochs=512,\n",
    "        callbacks=[early_stopping],\n",
    "        verbose=0\n",
    "    )\n",
    "\n",
    "    # Scores berechnen\n",
    "    # history_df = pd.DataFrame(history.history)\n",
    "\n",
    "    y_pred = np.floor(network.predict(X_test))\n",
    "    report = sklearn.metrics.classification_report(y_test, y_pred)\n",
    "    f1 = np.round(f1_score(y_test, y_pred, average='macro'), 4)\n",
    "    # confusion_matrix = sklearn.metrics.confusion_matrix(y_test, y_pred)\n",
    "    # print(confusion_matrix)\n",
    "    # print(report)\n",
    "    return f1, report, network\n",
    "\n",
    "    # history_df.loc[5:, ['loss', 'val_loss']].plot()"
   ],
   "metadata": {
    "collapsed": false,
    "pycharm": {
     "name": "#%%\n"
    }
   }
  },
  {
   "cell_type": "code",
   "execution_count": 67,
   "outputs": [
    {
     "name": "stdout",
     "output_type": "stream",
     "text": [
      "              precision    recall  f1-score   support\n",
      "\n",
      "           0       0.94      0.96      0.95       123\n",
      "           1       0.58      0.50      0.54        14\n",
      "\n",
      "    accuracy                           0.91       137\n",
      "   macro avg       0.76      0.73      0.75       137\n",
      "weighted avg       0.91      0.91      0.91       137\n",
      "\n"
     ]
    },
    {
     "data": {
      "text/plain": "                                               model     f1\n0  <tensorflow.python.keras.engine.sequential.Seq...  0.745",
      "text/html": "<div>\n<style scoped>\n    .dataframe tbody tr th:only-of-type {\n        vertical-align: middle;\n    }\n\n    .dataframe tbody tr th {\n        vertical-align: top;\n    }\n\n    .dataframe thead th {\n        text-align: right;\n    }\n</style>\n<table border=\"1\" class=\"dataframe\">\n  <thead>\n    <tr style=\"text-align: right;\">\n      <th></th>\n      <th>model</th>\n      <th>f1</th>\n    </tr>\n  </thead>\n  <tbody>\n    <tr>\n      <th>0</th>\n      <td>&lt;tensorflow.python.keras.engine.sequential.Seq...</td>\n      <td>0.745</td>\n    </tr>\n  </tbody>\n</table>\n</div>"
     },
     "execution_count": 67,
     "metadata": {},
     "output_type": "execute_result"
    }
   ],
   "source": [
    "results = {}\n",
    "\n",
    "for i in np.arange(100):\n",
    "    f1, report, model = nn(i)\n",
    "    results[i] = [model, f1]\n",
    "    print(report)\n",
    "\n",
    "df_results = pd.DataFrame.from_dict(results, orient='index', columns=['model', 'f1'])\n",
    "\n",
    "best_model = df_results[df_results['f1'] == df_results['f1'].max()].model[0]\n",
    "\n",
    "best_model.save(\"model.h5\")\n",
    "\n",
    "df_results"
   ],
   "metadata": {
    "collapsed": false,
    "pycharm": {
     "name": "#%%\n"
    }
   }
  }
 ],
 "metadata": {
  "kernelspec": {
   "display_name": "Python 3",
   "language": "python",
   "name": "python3"
  },
  "language_info": {
   "codemirror_mode": {
    "name": "ipython",
    "version": 2
   },
   "file_extension": ".py",
   "mimetype": "text/x-python",
   "name": "python",
   "nbconvert_exporter": "python",
   "pygments_lexer": "ipython2",
   "version": "2.7.6"
  }
 },
 "nbformat": 4,
 "nbformat_minor": 0
}