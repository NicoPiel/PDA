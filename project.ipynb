{
 "cells": [
  {
   "cell_type": "code",
   "execution_count": 1,
   "metadata": {},
   "outputs": [
    {
     "name": "stdout",
     "output_type": "stream",
     "text": [
      "/mnt/e/dev/pda\n"
     ]
    }
   ],
   "source": [
    "import qiime2\n",
    "from tempfile import mkdtemp\n",
    "from qiime2.plugins import demux, deblur, quality_filter, metadata, feature_table, alignment, phylogeny, diversity, emperor, feature_classifier, taxa, composition\n",
    "\n",
    "# Create directories\n",
    "!mkdir -p data\n",
    "\n",
    "# ENTER YOUR WORKING DIRECTORY HERE\n",
    "# Like this (on linux): workdir = '/dir/'\n",
    "\n",
    "workdir = '/mnt/e/dev/pda'\n",
    "datadir = '/mnt/d/data/ena_files'\n",
    "\n",
    "%cd $workdir"
   ]
  },
  {
   "cell_type": "code",
   "execution_count": null,
   "metadata": {},
   "outputs": [],
   "source": [
    "import os, sys\n",
    "import pandas as pd\n",
    "\n",
    "df = pd.read_csv(\"run_prefix.txt\", sep=\"\\t\")\n",
    "prefix = df[[\"sample_name\",\"run_prefix\"]]\n",
    "\n",
    "# listing directories\n",
    "file_list = os.listdir(os.getcwd())\n",
    "\n",
    "for file in file_list:\n",
    "    if file[:4] == \"1629\":\n",
    "        sample_id = file[:18]\n",
    "        run_prefix = prefix[prefix['sample_name'] == sample_id]['run_prefix'].tolist()[0]\n",
    "        src = sample_id + \".fastq.gz\"\n",
    "        dst = sample_id + run_prefix[3:15]+\"001.fastq.gz\"\n",
    "        os.rename(src, dst)\n",
    "        print(src)\n",
    "        print(dst)"
   ]
  }
 ],
 "metadata": {
  "kernelspec": {
   "display_name": "Python 3",
   "language": "python",
   "name": "python3"
  },
  "language_info": {
   "codemirror_mode": {
    "name": "ipython",
    "version": 3
   },
   "file_extension": ".py",
   "mimetype": "text/x-python",
   "name": "python",
   "nbconvert_exporter": "python",
   "pygments_lexer": "ipython3",
   "version": "3.6.10"
  }
 },
 "nbformat": 4,
 "nbformat_minor": 4
}
