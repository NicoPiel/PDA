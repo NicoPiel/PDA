{
 "cells": [
  {
   "cell_type": "markdown",
   "metadata": {},
   "source": [
    "# Vorbereitung"
   ]
  },
  {
   "cell_type": "code",
   "execution_count": 1,
   "metadata": {},
   "outputs": [
    {
     "name": "stdout",
     "output_type": "stream",
     "text": [
      "/mnt/e/dev/pda\n",
      "Working directory: /mnt/e/dev/pda\n",
      "Data directory: /mnt/e/dev/pda/data\n",
      "/mnt/e/dev/pda\n"
     ]
    }
   ],
   "source": [
    "# Setup\n",
    "\n",
    "import os, sys\n",
    "import pandas as pd\n",
    "\n",
    "import qiime2\n",
    "from tempfile import mkdtemp\n",
    "from qiime2.plugins import demux, deblur, quality_filter, metadata, feature_table, alignment, phylogeny, diversity, emperor, feature_classifier, taxa, composition\n",
    "\n",
    "workdir = os.getcwd()\n",
    "\n",
    "if 'project.ipynb' in os.listdir(workdir):\n",
    "    datadir = workdir + '/data'\n",
    "    outputdir = workdir + '/output'\n",
    "    sequencedir = datadir + '/sequences'\n",
    "\n",
    "    # Create directories\n",
    "    !mkdir -p data\n",
    "    !mkdir -p data/sequences\n",
    "    !mkdir -p output\n",
    "    !mkdir -p output/viz\n",
    "else:\n",
    "    raise RuntimeError(\"Working directory not notebook directory. The Jupyter server has to be started in this notebook's directory\")\n",
    "\n",
    "print(os.getcwd())\n",
    "\n",
    "print(f'Working directory: {workdir}')\n",
    "print(f'Data directory: {datadir}')\n",
    "\n",
    "%cd $workdir"
   ]
  },
  {
   "cell_type": "code",
   "execution_count": 2,
   "metadata": {},
   "outputs": [],
   "source": [
    "# Rename files\n",
    "\n",
    "df = pd.read_csv(f\"{datadir}/run_prefix.tsv\", sep=\"\\t\")\n",
    "prefix = df[[\"sample_name\", \"run_prefix\"]]\n",
    "\n",
    "# listing directories\n",
    "file_list = os.listdir(sequencedir)\n",
    "\n",
    "if not '1629.SubjectIBD001_L2_L006_R1_001.fastq.gz' in file_list:\n",
    "    for file in file_list:\n",
    "        if file[:4] == \"1629\":\n",
    "            sample_id = file[:18]\n",
    "            run_prefix = prefix[prefix['sample_name'] == sample_id]['run_prefix'].tolist()[0]\n",
    "            src = sample_id + \".fastq.gz\"\n",
    "            dst = sample_id + run_prefix[3:15]+\"001.fastq.gz\"\n",
    "            os.rename(f'{sequencedir}/{src}', f'{sequencedir}/{dst}')\n",
    "            print(src)\n",
    "            print(dst)"
   ]
  },
  {
   "cell_type": "code",
   "execution_count": null,
   "metadata": {},
   "outputs": [],
   "source": [
    "# Load data\n",
    "\n",
    "if not 'demux-single-end.qza' in os.listdir(outputdir):\n",
    "    !qiime tools import --type 'SampleData[SequencesWithQuality]' --input-path data/sequences --input-format CasavaOneEightSingleLanePerSampleDirFmt --output-path output/demux-single-end.qza\n",
    "    !qiime demux summarize --i-data output/demux-single-end.qza --o-visualization output/viz/demux-single-end.qzv\n",
    "    !qiime quality-filter q-score --i-demux output/demux-single-end.qza --o-filtered-sequences output/demux-filtered.qza --o-filter-stats output/demux-filter-stats.qza --verbose\n",
    "    !qiime deblur denoise-16S --i-demultiplexed-seqs output/demux-filtered.qza --p-trim-length 90 --o-representative-sequences output/rep-seqs-deblur.qza --o-table output/table-deblur.qza --verbose --p-sample-stats --p-jobs-to-start 8 --o-stats output/deblur-stats.qza\n",
    "    !qiime phylogeny align-to-tree-mafft-fasttree   --i-sequences output/rep-seqs.qza   --o-alignment output/aligned-rep-seqs.qza   --o-masked-alignment output/masked-aligned-rep-seqs.qza   --o-tree output/unrooted-tree.qza   --o-rooted-tree output/rooted-tree.qza --verbose\n",
    "    !qiime diversity core-metrics-phylogenetic --i-phylogeny output/rooted-tree.qza --i-table output/table.qza --p-sampling-depth 1103 --m-metadata-file data/metadata.tsv --output-dir output/core-metrics-results --verbose\n",
    "\n",
    "    \n",
    "# Import via this code line below, only if CLI fails.\n",
    "# sequences = qiime2.Artifact.import_data('SampleData[SequencesWithQuality]', f'{datadir}/sequences', view_type='CasavaOneEightSingleLanePerSampleDirFmt')\n",
    "# sequences = qiime2.Artifact.load(f'{outputdir}/demux-single-end.qza')\n",
    "# metadata = qiime2.Metadata.load(f'{datadir}/metadata.tsv')\n",
    "\n",
    "# Save as .qza file if imported via Python\n",
    "# sequences.save(f'{outputdir}/demux-single-end.qza')"
   ]
  },
  {
   "cell_type": "code",
   "execution_count": null,
   "metadata": {},
   "outputs": [],
   "source": [
    "# demux_summary = demux.visualizers.summarize(sequences.per_sample_sequences)\n",
    "# demux_summary.visualization"
   ]
  }
 ],
 "metadata": {
  "kernelspec": {
   "display_name": "Python 3",
   "language": "python",
   "name": "python3"
  },
  "language_info": {
   "codemirror_mode": {
    "name": "ipython",
    "version": 3
   },
   "file_extension": ".py",
   "mimetype": "text/x-python",
   "name": "python",
   "nbconvert_exporter": "python",
   "pygments_lexer": "ipython3",
   "version": "3.6.10"
  }
 },
 "nbformat": 4,
 "nbformat_minor": 4
}
